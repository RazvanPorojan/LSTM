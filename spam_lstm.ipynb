{
  "cells": [
    {
      "metadata": {
        "_cell_guid": "79c7e3d0-c299-4dcb-8224-4455121ee9b0",
        "_uuid": "d629ff2d2480ee46fbb7e2d37f6b5fab8052498a",
        "collapsed": true
      },
      "cell_type": "markdown",
      "source": "# Import the necessary libraries"
    },
    {
      "metadata": {
        "trusted": true,
        "_uuid": "d6fb32fd69316596e236eab5fb8cf77c848508c3"
      },
      "cell_type": "code",
      "source": "import pandas as pd\nimport numpy as np\nimport matplotlib.pyplot as plt\nimport seaborn as sns\nfrom sklearn.model_selection import train_test_split\nfrom sklearn.preprocessing import LabelEncoder\nfrom keras.models import Model\nfrom keras.layers import LSTM, Activation, Dense, Dropout, Input, Embedding\nfrom keras.optimizers import RMSprop\nfrom keras.preprocessing.text import Tokenizer\nfrom keras.preprocessing import sequence\nfrom keras.utils import to_categorical\nfrom keras.callbacks import EarlyStopping\n%matplotlib inline",
      "execution_count": 1,
      "outputs": [
        {
          "output_type": "stream",
          "text": "Using TensorFlow backend.\n",
          "name": "stderr"
        }
      ]
    },
    {
      "metadata": {
        "_uuid": "f674695f1742479cefdeec0e81ab469f7b6ec90f"
      },
      "cell_type": "markdown",
      "source": "### Load the data into Pandas dataframe"
    },
    {
      "metadata": {
        "trusted": true,
        "_uuid": "aca2f1d9da3f35d104763166fe4d25448410d8f2"
      },
      "cell_type": "code",
      "source": "df = pd.read_csv('../input/spam.csv',delimiter=',',encoding='latin-1')\ndf.head()",
      "execution_count": 2,
      "outputs": [
        {
          "output_type": "execute_result",
          "execution_count": 2,
          "data": {
            "text/plain": "     v1    ...     Unnamed: 4\n0   ham    ...            NaN\n1   ham    ...            NaN\n2  spam    ...            NaN\n3   ham    ...            NaN\n4   ham    ...            NaN\n\n[5 rows x 5 columns]",
            "text/html": "<div>\n<style scoped>\n    .dataframe tbody tr th:only-of-type {\n        vertical-align: middle;\n    }\n\n    .dataframe tbody tr th {\n        vertical-align: top;\n    }\n\n    .dataframe thead th {\n        text-align: right;\n    }\n</style>\n<table border=\"1\" class=\"dataframe\">\n  <thead>\n    <tr style=\"text-align: right;\">\n      <th></th>\n      <th>v1</th>\n      <th>v2</th>\n      <th>Unnamed: 2</th>\n      <th>Unnamed: 3</th>\n      <th>Unnamed: 4</th>\n    </tr>\n  </thead>\n  <tbody>\n    <tr>\n      <th>0</th>\n      <td>ham</td>\n      <td>Go until jurong point, crazy.. Available only ...</td>\n      <td>NaN</td>\n      <td>NaN</td>\n      <td>NaN</td>\n    </tr>\n    <tr>\n      <th>1</th>\n      <td>ham</td>\n      <td>Ok lar... Joking wif u oni...</td>\n      <td>NaN</td>\n      <td>NaN</td>\n      <td>NaN</td>\n    </tr>\n    <tr>\n      <th>2</th>\n      <td>spam</td>\n      <td>Free entry in 2 a wkly comp to win FA Cup fina...</td>\n      <td>NaN</td>\n      <td>NaN</td>\n      <td>NaN</td>\n    </tr>\n    <tr>\n      <th>3</th>\n      <td>ham</td>\n      <td>U dun say so early hor... U c already then say...</td>\n      <td>NaN</td>\n      <td>NaN</td>\n      <td>NaN</td>\n    </tr>\n    <tr>\n      <th>4</th>\n      <td>ham</td>\n      <td>Nah I don't think he goes to usf, he lives aro...</td>\n      <td>NaN</td>\n      <td>NaN</td>\n      <td>NaN</td>\n    </tr>\n  </tbody>\n</table>\n</div>"
          },
          "metadata": {}
        }
      ]
    },
    {
      "metadata": {
        "_uuid": "53083ccecf39523cff290495a6cc768061ba9b46"
      },
      "cell_type": "markdown",
      "source": "Drop the columns that are not required for the neural network."
    },
    {
      "metadata": {
        "scrolled": true,
        "trusted": true,
        "_uuid": "95a8b5d6f19cf42d4f55c6d2842faf1d0d55c1d0"
      },
      "cell_type": "code",
      "source": "df.drop(['Unnamed: 2', 'Unnamed: 3', 'Unnamed: 4'],axis=1,inplace=True)\ndf.info()",
      "execution_count": 3,
      "outputs": [
        {
          "output_type": "stream",
          "text": "<class 'pandas.core.frame.DataFrame'>\nRangeIndex: 5572 entries, 0 to 5571\nData columns (total 2 columns):\nv1    5572 non-null object\nv2    5572 non-null object\ndtypes: object(2)\nmemory usage: 87.1+ KB\n",
          "name": "stdout"
        }
      ]
    },
    {
      "metadata": {
        "_uuid": "3c7060084470000f39a2dcc15b656586dcd6e9fd"
      },
      "cell_type": "markdown",
      "source": "Understand the distribution better."
    },
    {
      "metadata": {
        "trusted": true,
        "_uuid": "a12002f521dd8eaeb0f69a932cbf23815ffd09d7"
      },
      "cell_type": "code",
      "source": "sns.countplot(df.v1)\nplt.xlabel('Label')\nplt.title('Number of ham and spam messages')",
      "execution_count": 4,
      "outputs": [
        {
          "output_type": "execute_result",
          "execution_count": 4,
          "data": {
            "text/plain": "Text(0.5,1,'Number of ham and spam messages')"
          },
          "metadata": {}
        },
        {
          "output_type": "display_data",
          "data": {
            "text/plain": "<Figure size 432x288 with 1 Axes>",
            "image/png": "[encoded data removed]"
          },
          "metadata": {}
        }
      ]
    },
    {
      "metadata": {
        "_uuid": "353a8191f86c3a22843a729b5d4a5acefbf94be8"
      },
      "cell_type": "markdown",
      "source": "* Create input and output vectors.\n* Process the labels."
    },
    {
      "metadata": {
        "trusted": true,
        "_uuid": "a1a345c1683e2fcc7173ecae867a5da87f2dde24"
      },
      "cell_type": "code",
      "source": "X = df.v2\nY = df.v1\nle = LabelEncoder()\nY = le.fit_transform(Y)\nY = Y.reshape(-1,1)",
      "execution_count": 6,
      "outputs": []
    },
    {
      "metadata": {
        "_uuid": "150e244a39b814d8a41bbe0e419bc5f28e457dd6"
      },
      "cell_type": "markdown",
      "source": "Split into training and test data."
    },
    {
      "metadata": {
        "scrolled": true,
        "trusted": true,
        "_uuid": "aa3386af09469682c66cc53a1830a4e42f0e70b6"
      },
      "cell_type": "code",
      "source": "X_train,X_test,Y_train,Y_test = train_test_split(X,Y,test_size=0.15)",
      "execution_count": 7,
      "outputs": []
    },
    {
      "metadata": {
        "_uuid": "c5378d55c271e01480c1ac07f94ff99a80f900d6"
      },
      "cell_type": "markdown",
      "source": "### Process the data\n* Tokenize the data and convert the text to sequences.\n* Add padding to ensure that all the sequences have the same shape.\n* There are many ways of taking the *max_len* and here an arbitrary length of 150 is chosen."
    },
    {
      "metadata": {
        "trusted": true,
        "_uuid": "bdca14f2b8cd7bd7cb5ee66fd40ea522217c03c6"
      },
      "cell_type": "code",
      "source": "max_words = 1000\nmax_len = 150\ntok = Tokenizer(num_words=max_words)\ntok.fit_on_texts(X_train)\nsequences = tok.texts_to_sequences(X_train)\nsequences_matrix = sequence.pad_sequences(sequences,maxlen=max_len)",
      "execution_count": 8,
      "outputs": []
    },
    {
      "metadata": {
        "_uuid": "ad8706caa7a447fb49b44919fd109129e4082a93"
      },
      "cell_type": "markdown",
      "source": "### RNN\nDefine the RNN structure."
    },
    {
      "metadata": {
        "trusted": true,
        "_uuid": "78fff25b8be1de575bff071a2027f3dd2b11b911"
      },
      "cell_type": "code",
      "source": "def RNN():\n    inputs = Input(name='inputs',shape=[max_len])\n    layer = Embedding(max_words,50,input_length=max_len)(inputs)\n    layer = LSTM(64)(layer)\n    layer = Dense(256,name='FC1')(layer)\n    layer = Activation('relu')(layer)\n    layer = Dropout(0.5)(layer)\n    layer = Dense(1,name='out_layer')(layer)\n    layer = Activation('sigmoid')(layer)\n    model = Model(inputs=inputs,outputs=layer)\n    return model",
      "execution_count": 9,
      "outputs": []
    },
    {
      "metadata": {
        "_uuid": "9d7c489e32bff6d12b8c08c07a91e9ba5d302e0e"
      },
      "cell_type": "markdown",
      "source": "Call the function and compile the model."
    },
    {
      "metadata": {
        "trusted": true,
        "_uuid": "a0ede32d4127e8b4990fd74fe97fadef9e565d17"
      },
      "cell_type": "code",
      "source": "model = RNN()\nmodel.summary()\nmodel.compile(loss='binary_crossentropy',optimizer=RMSprop(),metrics=['accuracy'])",
      "execution_count": 10,
      "outputs": [
        {
          "output_type": "stream",
          "text": "_________________________________________________________________\nLayer (type)                 Output Shape              Param #   \n=================================================================\ninputs (InputLayer)          (None, 150)               0         \n_________________________________________________________________\nembedding_1 (Embedding)      (None, 150, 50)           50000     \n_________________________________________________________________\nlstm_1 (LSTM)                (None, 64)                29440     \n_________________________________________________________________\nFC1 (Dense)                  (None, 256)               16640     \n_________________________________________________________________\nactivation_1 (Activation)    (None, 256)               0         \n_________________________________________________________________\ndropout_1 (Dropout)          (None, 256)               0         \n_________________________________________________________________\nout_layer (Dense)            (None, 1)                 257       \n_________________________________________________________________\nactivation_2 (Activation)    (None, 1)                 0         \n=================================================================\nTotal params: 96,337\nTrainable params: 96,337\nNon-trainable params: 0\n_________________________________________________________________\n",
          "name": "stdout"
        }
      ]
    },
    {
      "metadata": {
        "_uuid": "bc2e0a3ec50d14c790b82d66f9255456ec6a69da"
      },
      "cell_type": "markdown",
      "source": "Fit on the training data."
    },
    {
      "metadata": {
        "trusted": true,
        "_uuid": "98f6d6318352420ea49c532cda158f715f940f4b"
      },
      "cell_type": "code",
      "source": "model.fit(sequences_matrix,Y_train,batch_size=128,epochs=10,\n          validation_split=0.2,callbacks=[EarlyStopping(monitor='val_loss',min_delta=0.0001)])",
      "execution_count": 11,
      "outputs": [
        {
          "output_type": "stream",
          "text": "Train on 3788 samples, validate on 948 samples\nEpoch 1/10\n3788/3788 [==============================] - 13s 3ms/step - loss: 0.3255 - acc: 0.8799 - val_loss: 0.1453 - val_acc: 0.9662\nEpoch 2/10\n3788/3788 [==============================] - 10s 3ms/step - loss: 0.0846 - acc: 0.9805 - val_loss: 0.0722 - val_acc: 0.9810\nEpoch 3/10\n3788/3788 [==============================] - 10s 3ms/step - loss: 0.0449 - acc: 0.9881 - val_loss: 0.0600 - val_acc: 0.9831\nEpoch 4/10\n3788/3788 [==============================] - 10s 3ms/step - loss: 0.0328 - acc: 0.9902 - val_loss: 0.0573 - val_acc: 0.9852\nEpoch 5/10\n3788/3788 [==============================] - 10s 3ms/step - loss: 0.0255 - acc: 0.9916 - val_loss: 0.0638 - val_acc: 0.9863\n",
          "name": "stdout"
        },
        {
          "output_type": "execute_result",
          "execution_count": 11,
          "data": {
            "text/plain": "<keras.callbacks.History at 0x7f035d402f28>"
          },
          "metadata": {}
        }
      ]
    },
    {
      "metadata": {
        "_uuid": "448ab38c2f804e47df48eb45385393aaec168032"
      },
      "cell_type": "markdown",
      "source": "The model performs well on the validation set and this configuration is chosen as the final model."
    },
    {
      "metadata": {
        "_uuid": "ccca7839445a7d663ee7bc425a16e247df3e0e5b"
      },
      "cell_type": "markdown",
      "source": "Process the test set data."
    },
    {
      "metadata": {
        "trusted": true,
        "_uuid": "80036135a11387d952becaf2fecf653a65c02328"
      },
      "cell_type": "code",
      "source": "test_sequences = tok.texts_to_sequences(X_test)\ntest_sequences_matrix = sequence.pad_sequences(test_sequences,maxlen=max_len)",
      "execution_count": 13,
      "outputs": []
    },
    {
      "metadata": {
        "_uuid": "0b60d7d2bcc0aabf77c8c8766c59f8d73cd34547"
      },
      "cell_type": "markdown",
      "source": "Evaluate the model on the test set."
    },
    {
      "metadata": {
        "trusted": true,
        "_uuid": "0db183049b59d96388812a98efedfc865b7cc141"
      },
      "cell_type": "code",
      "source": "accr = model.evaluate(test_sequences_matrix,Y_test)",
      "execution_count": 14,
      "outputs": [
        {
          "output_type": "stream",
          "text": "836/836 [==============================] - 3s 4ms/step\n",
          "name": "stdout"
        }
      ]
    },
    {
      "metadata": {
        "trusted": true,
        "scrolled": true,
        "_uuid": "3e121ab83f4a0b9f7376ab24aa25d67051171f89"
      },
      "cell_type": "code",
      "source": "print('Test set\\n  Loss: {:0.3f}\\n  Accuracy: {:0.3f}'.format(accr[0],accr[1]))",
      "execution_count": 15,
      "outputs": [
        {
          "output_type": "stream",
          "text": "Test set\n  Loss: 0.041\n  Accuracy: 0.984\n",
          "name": "stdout"
        }
      ]
    }
  ],
  "metadata": {
    "kernelspec": {
      "display_name": "Python 3",
      "language": "python",
      "name": "python3"
    },
    "language_info": {
      "name": "python",
      "version": "3.6.6",
      "mimetype": "text/x-python",
      "codemirror_mode": {
        "name": "ipython",
        "version": 3
      },
      "pygments_lexer": "ipython3",
      "nbconvert_exporter": "python",
      "file_extension": ".py"
    }
  },
  "nbformat": 4,
  "nbformat_minor": 1
}